{
 "cells": [
  {
   "cell_type": "code",
   "execution_count": null,
   "metadata": {},
   "outputs": [],
   "source": [
    "%pip install youtube-transcript-api google-generativeai chromadb"
   ]
  },
  {
   "cell_type": "code",
   "execution_count": 1,
   "metadata": {},
   "outputs": [
    {
     "name": "stderr",
     "output_type": "stream",
     "text": [
      "/home/moazam/python_projects/note_taker/.venv/lib/python3.10/site-packages/tqdm/auto.py:21: TqdmWarning: IProgress not found. Please update jupyter and ipywidgets. See https://ipywidgets.readthedocs.io/en/stable/user_install.html\n",
      "  from .autonotebook import tqdm as notebook_tqdm\n"
     ]
    }
   ],
   "source": [
    "from youtube_transcript_api import YouTubeTranscriptApi\n",
    "from youtube_transcript_api.formatters import TextFormatter\n",
    "\n",
    "import google.generativeai as genai\n",
    "\n",
    "import chromadb\n",
    "from chromadb.utils import embedding_functions\n",
    "\n",
    "import os"
   ]
  },
  {
   "cell_type": "markdown",
   "metadata": {},
   "source": [
    "Gemini API\n",
    "https://ai.google.dev.pricing\n",
    "https://github.com/johnnycode8/chromadb_quickstart/blob/main/README.md"
   ]
  },
  {
   "cell_type": "code",
   "execution_count": null,
   "metadata": {},
   "outputs": [],
   "source": [
    "\n",
    "# load gemini api key from .venv/\n",
    "\n",
    "GEMINI_API_KEY = os.getenv('GEMINI_API_KEY')\n",
    "genai.configure(api_key=GEMINI_API_KEY)\n",
    "\n",
    "\n",
    "# instantiate gemini model\n",
    "\n",
    "genai_model = genai.GenerativeModel('models/gemini-1.5-flash')\n",
    "\n",
    "chroma_client = chromadb.PersistentClient(path=\"my_vectordb\")\n",
    "\n",
    "gemini_ef = embedding_functions.GoogleGenerativeAiEmbeddingFunction(api_key=GEMINI_API_KEY)\n",
    "\n",
    "chroma_collection = chroma_client.get_or_create_collection(name='yt_notes', embedding_function=gemini_ef)"
   ]
  },
  {
   "cell_type": "code",
   "execution_count": null,
   "metadata": {},
   "outputs": [],
   "source": [
    "# Some sample YouTube videos:\n",
    "# https://youtu.be/IdLSZEYlWVo\n",
    "# https://youtu.be/tL-wnMVyTQI\n",
    "# https://youtu.be/etSdP9CFmko\n",
    "# https://youtu.be/rgRIZDsEwCk\n",
    "# https://youtu.be/_EA-74yr5D4\n",
    "\n",
    "yt_video_id = 'hQH4-5o0BMM'\n",
    "\n",
    "prompt = \"Extract key notes from video transcript: \"\n",
    "\n"
   ]
  },
  {
   "cell_type": "code",
   "execution_count": null,
   "metadata": {},
   "outputs": [],
   "source": [
    "# Reference: https://github.com/jdepoix/youtube-transcript-api\n",
    "transcript = YouTubeTranscriptApi.get_transcript(yt_video_id, languages=['en','en-US','en-GB'])\n",
    "transcript = TextFormatter().format_transcript(transcript)\n",
    "\n",
    "with open(\"temp_transcript.txt\", \"w\") as file:\n",
    "    file.write(transcript)\n",
    "\n",
    "\n"
   ]
  },
  {
   "cell_type": "code",
   "execution_count": null,
   "metadata": {},
   "outputs": [],
   "source": [
    "# https://ai.google.dev/api/generate-content\n",
    "response = genai_model.generate_content(prompt + transcript, stream=False)\n",
    "\n",
    "with open(\"temp_notes.txt\", \"w\") as file:\n",
    "    file.write(response.text)\n",
    "\n",
    "# Review temp_notes.txt, edit if necessary"
   ]
  },
  {
   "cell_type": "code",
   "execution_count": null,
   "metadata": {},
   "outputs": [],
   "source": [
    "with open(\"temp_notes.txt\", \"r\") as file:\n",
    "    notes = file.read()\n",
    "\n",
    "# Insert, if record doesn't exist, otherwise update existing record\n",
    "# https://docs.trychroma.com/reference/py-collection#upsert\n",
    "chroma_collection.upsert(\n",
    "    documents=[notes],\n",
    "    ids=[yt_video_id]\n",
    ")\n",
    "\n",
    "# Validation\n",
    "result = chroma_collection.get(yt_video_id, include=['documents'])\n",
    "result"
   ]
  },
  {
   "cell_type": "code",
   "execution_count": null,
   "metadata": {},
   "outputs": [],
   "source": [
    "query_text = \"How much beef do I need for the beef ribs recipe?\"\n",
    "n_results = 5\n",
    "\n",
    "# https://docs.trychroma.com/reference/py-collection#query\n",
    "results = chroma_collection.query(\n",
    "    query_texts=[query_text],\n",
    "    n_results=n_results,\n",
    "    include=['documents', 'distances', 'metadatas'],\n",
    ")\n",
    "\n",
    "for i in range(len(results['ids'][0])):\n",
    "    id       = results[\"ids\"][0][i]\n",
    "    document = results['documents'][0][i]\n",
    "\n",
    "    print(\"************************************************************************\")\n",
    "    print(f\"{i+1}.  https://youtu.be/{id}\")\n",
    "    print(\"************************************************************************\")\n",
    "    print(document)"
   ]
  },
  {
   "cell_type": "code",
   "execution_count": null,
   "metadata": {},
   "outputs": [],
   "source": [
    "prompt = \"Answer the following QUESTION using DOCUMENT as context.\"\n",
    "prompt += f\"QUESTION: {query_text}\"\n",
    "prompt += f\"DOCUMENT: {results['documents'][0][0]}\"\n",
    "\n",
    "response = genai_model.generate_content(prompt, stream=False)\n",
    "print(response.text)"
   ]
  }
 ],
 "metadata": {
  "kernelspec": {
   "display_name": "Python 3",
   "language": "python",
   "name": "python3"
  },
  "language_info": {
   "codemirror_mode": {
    "name": "ipython",
    "version": 3
   },
   "file_extension": ".py",
   "mimetype": "text/x-python",
   "name": "python",
   "nbconvert_exporter": "python",
   "pygments_lexer": "ipython3",
   "version": "3.10.12"
  }
 },
 "nbformat": 4,
 "nbformat_minor": 2
}
